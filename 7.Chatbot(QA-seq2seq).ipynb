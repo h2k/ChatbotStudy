{
 "cells": [
  {
   "cell_type": "markdown",
   "metadata": {},
   "source": [
    "# Why Chatbot\n",
    "* 앱을 새로 깔 필요가 없음\n",
    "* 앱을 깔필요가 없으니 배울 것도 없음\n",
    "* 편한 UX - 그냥 텍스트 치면됨\n",
    "* 즉각적인 Feedback\n",
    "\n",
    "## Seq2Seq를 활용한 간단한 Q/A 봇을 만들어보자\n",
    "![이미지](http://suriyadeepan.github.io/img/seq2seq/seq2seq2.png)\n",
    "* Python 3.5, Tensorflow 1.1, Konlpy (Mecab),Word2Vec (Gensim), matplotlib (Graph)"
   ]
  },
  {
   "cell_type": "code",
   "execution_count": 1,
   "metadata": {},
   "outputs": [
    {
     "name": "stdout",
     "output_type": "stream",
     "text": [
      "1.9.0\n"
     ]
    }
   ],
   "source": [
    "# -*- coding: utf-8 -*-\n",
    "import tensorflow as tf\n",
    "from tensorflow.python.keras.preprocessing.text import Tokenizer\n",
    "from tensorflow.python.keras.preprocessing.sequence import pad_sequences\n",
    "\n",
    "print(tf.__version__)"
   ]
  },
  {
   "cell_type": "markdown",
   "metadata": {},
   "source": [
    "### seq2seq를 위한 Data 구성\n",
    "* 질의 응답별로 LIST로 구성\n",
    "* operator사용 value값 기준 정렬"
   ]
  },
  {
   "cell_type": "code",
   "execution_count": 2,
   "metadata": {},
   "outputs": [
    {
     "name": "stdout",
     "output_type": "stream",
     "text": [
      "['안', '녕']\n",
      "['만', '나', '서', ' ', '반', '가', '워']\n",
      "['넌', '누', '구', '니']\n",
      "['나', '는', ' ', 'A', 'I', ' ', '봇', '이', '란', '다', '.']\n",
      "['피', '자', ' ', '주', '문', ' ', '할', '께']\n",
      "['페', '파', '로', '니', ' ', '주', '문', '해', '줘']\n",
      "['음', '료', '는', ' ', '멀', '로']\n",
      "['콜', '라', '로', ' ', '해', '줘']\n"
     ]
    }
   ],
   "source": [
    "train_data = [\n",
    "    ['안녕', '만나서 반가워'],\n",
    "    ['넌누구니', '나는 AI 봇이란다.'],\n",
    "    ['피자 주문 할께', '페파로니 주문해줘'],\n",
    "    ['음료는 멀로', '콜라로 해줘']\n",
    "]\n",
    "\n",
    "all_input_sentences = []\n",
    "all_target_sentences = []\n",
    "\n",
    "tokenizer = Tokenizer(lower=False)\n",
    "\n",
    "def to_char_array(text):\n",
    "    return list(text)\n",
    "\n",
    "for row_data in train_data:\n",
    "    print(to_char_array(row_data[0]))\n",
    "    print(to_char_array(row_data[1]))\n",
    "    inputs = to_char_array(row_data[0])\n",
    "    outputs = to_char_array(row_data[1])\n",
    "    tokenizer.fit_on_texts(inputs)\n",
    "    tokenizer.fit_on_texts(outputs)\n",
    "    all_input_sentences.append(inputs)\n",
    "    all_target_sentences.append(outputs)"
   ]
  },
  {
   "cell_type": "markdown",
   "metadata": {},
   "source": [
    "# Vector 구성 (입력된 문장의 글자별 Vector)\n",
    " - 일반적으로 처리단위가 작아질수록 미등록어에서 자유롭고 작은 vector 차원을 유지할 수 있지만\n",
    " - 문장의 길이가 길어지고, 학습이 어려워지는 문제가 있기에 적절한 embedding을 찾아야하는데 \n",
    " - 이부분은 Biz Domain 별 차이가 있음 복잡도나 표현 가능성등을 적절한 균형에서 찾아야함 \n",
    " - 아래 소스는 이해하기 쉽도록 글자단위의 Onehot으로 구성"
   ]
  },
  {
   "cell_type": "code",
   "execution_count": 3,
   "metadata": {},
   "outputs": [
    {
     "name": "stdout",
     "output_type": "stream",
     "text": [
      "{1: '로', 2: '나', 3: '니', 4: '는', 5: '주', 6: '문', 7: '해', 8: '줘', 9: '안', 10: '녕', 11: '만', 12: '서', 13: '반', 14: '가', 15: '워', 16: '넌', 17: '누', 18: '구', 19: 'A', 20: 'I', 21: '봇', 22: '이', 23: '란', 24: '다', 25: '피', 26: '자', 27: '할', 28: '께', 29: '페', 30: '파', 31: '음', 32: '료', 33: '멀', 34: '콜', 35: '라'}\n",
      "[[ 0  0  0  0  0  0  9 10]\n",
      " [ 0  0  0  0 16 17 18  3]\n",
      " [ 0  0 25 26  5  6 27 28]\n",
      " [ 0  0  0 31 32  4 33  1]]\n",
      "[[ 0  0 11  2 12 13 14 15]\n",
      " [ 2  4 19 20 21 22 23 24]\n",
      " [29 30  1  3  5  6  7  8]\n",
      " [ 0  0  0 34 35  1  7  8]]\n"
     ]
    }
   ],
   "source": [
    "index_word = {v: k for k, v in tokenizer.word_index.items()}\n",
    "print(index_word)\n",
    "\n",
    "input_texts = tokenizer.texts_to_sequences(all_input_sentences)\n",
    "output_texts = tokenizer.texts_to_sequences(all_target_sentences)\n",
    "\n",
    "\n",
    "MAX_NB_WORDS = len(tokenizer.word_index) + 1\n",
    "MAX_SEQUENCE_LENGTH_X = max([len(seq) for seq in input_texts])\n",
    "MAX_SEQUENCE_LENGTH_Y = max([len(seq) for seq in output_texts])\n",
    "MAX_SEQUENCE_LENGTH = max(MAX_SEQUENCE_LENGTH_X, MAX_SEQUENCE_LENGTH_Y)\n",
    "\n",
    "input_texts = pad_sequences(input_texts, maxlen=MAX_SEQUENCE_LENGTH)\n",
    "output_texts = pad_sequences(output_texts, maxlen=MAX_SEQUENCE_LENGTH)\n",
    "\n",
    "print(input_texts)\n",
    "print(output_texts)"
   ]
  },
  {
   "cell_type": "markdown",
   "metadata": {},
   "source": [
    "### One Hot Encodeing\n",
    "* '안녕??'의 정렬하여 1의 값으로 정렬 <br>\n",
    "안 [1, 0, 0, 0, 0, 0, 0, 0, 0, 0] <br>\n",
    "녕 [0, 1, 0, 0, 0, 0, 0, 0, 0, 0] <br>\n",
    "? [0, 0, 1, 0, 0, 0, 0, 0, 0, 0] <br>"
   ]
  },
  {
   "cell_type": "code",
   "execution_count": 4,
   "metadata": {},
   "outputs": [],
   "source": [
    "from tensorflow.python.keras.utils import np_utils\n",
    "\n",
    "input_texts = np_utils.to_categorical(input_texts, MAX_NB_WORDS)\n",
    "output_texts = np_utils.to_categorical(output_texts, MAX_NB_WORDS)"
   ]
  },
  {
   "cell_type": "markdown",
   "metadata": {},
   "source": [
    "### 모델 구현"
   ]
  },
  {
   "cell_type": "code",
   "execution_count": 5,
   "metadata": {},
   "outputs": [
    {
     "name": "stdout",
     "output_type": "stream",
     "text": [
      "_________________________________________________________________\n",
      "Layer (type)                 Output Shape              Param #   \n",
      "=================================================================\n",
      "lstm (LSTM)                  (None, 150)               112200    \n",
      "_________________________________________________________________\n",
      "repeat_vector (RepeatVector) (None, 8, 150)            0         \n",
      "_________________________________________________________________\n",
      "lstm_1 (LSTM)                (None, 8, 150)            180600    \n",
      "_________________________________________________________________\n",
      "time_distributed (TimeDistri (None, 8, 36)             5436      \n",
      "=================================================================\n",
      "Total params: 298,236\n",
      "Trainable params: 298,236\n",
      "Non-trainable params: 0\n",
      "_________________________________________________________________\n"
     ]
    }
   ],
   "source": [
    "from tensorflow.python.keras.layers import LSTM, RepeatVector, TimeDistributed, Dense\n",
    "from tensorflow.python.keras.models import Sequential\n",
    "model = Sequential()\n",
    "model.add(LSTM(150, input_shape=(MAX_SEQUENCE_LENGTH, MAX_NB_WORDS)))\n",
    "model.add(RepeatVector(MAX_SEQUENCE_LENGTH))\n",
    "model.add(LSTM(150, return_sequences=True))\n",
    "model.add(TimeDistributed(Dense(MAX_NB_WORDS, activation='softmax')))\n",
    "model.compile(loss='categorical_crossentropy', optimizer='adam', metrics=['acc'])\n",
    "\n",
    "model.summary()"
   ]
  },
  {
   "cell_type": "markdown",
   "metadata": {},
   "source": [
    "### 수행"
   ]
  },
  {
   "cell_type": "code",
   "execution_count": 6,
   "metadata": {},
   "outputs": [
    {
     "name": "stdout",
     "output_type": "stream",
     "text": [
      "Epoch 1/100\n",
      " - 3s - loss: 3.5816 - acc: 0.0312\n",
      "Epoch 2/100\n",
      " - 0s - loss: 3.5720 - acc: 0.0312\n",
      "Epoch 3/100\n",
      " - 0s - loss: 3.5609 - acc: 0.1562\n",
      "Epoch 4/100\n",
      " - 0s - loss: 3.5485 - acc: 0.2500\n",
      "Epoch 5/100\n",
      " - 0s - loss: 3.5344 - acc: 0.2188\n",
      "Epoch 6/100\n",
      " - 0s - loss: 3.5180 - acc: 0.2188\n",
      "Epoch 7/100\n",
      " - 0s - loss: 3.4985 - acc: 0.2188\n",
      "Epoch 8/100\n",
      " - 0s - loss: 3.4747 - acc: 0.2188\n",
      "Epoch 9/100\n",
      " - 0s - loss: 3.4451 - acc: 0.2188\n",
      "Epoch 10/100\n",
      " - 0s - loss: 3.4080 - acc: 0.2188\n",
      "Epoch 11/100\n",
      " - 0s - loss: 3.3614 - acc: 0.2188\n",
      "Epoch 12/100\n",
      " - 0s - loss: 3.3036 - acc: 0.2188\n",
      "Epoch 13/100\n",
      " - 0s - loss: 3.2354 - acc: 0.2188\n",
      "Epoch 14/100\n",
      " - 0s - loss: 3.1621 - acc: 0.2188\n",
      "Epoch 15/100\n",
      " - 0s - loss: 3.0926 - acc: 0.2188\n",
      "Epoch 16/100\n",
      " - 0s - loss: 3.0248 - acc: 0.2500\n",
      "Epoch 17/100\n",
      " - 0s - loss: 2.9443 - acc: 0.2500\n",
      "Epoch 18/100\n",
      " - 0s - loss: 2.8568 - acc: 0.2500\n",
      "Epoch 19/100\n",
      " - 0s - loss: 2.7747 - acc: 0.2812\n",
      "Epoch 20/100\n",
      " - 0s - loss: 2.6935 - acc: 0.3125\n",
      "Epoch 21/100\n",
      " - 0s - loss: 2.6282 - acc: 0.2812\n",
      "Epoch 22/100\n",
      " - 0s - loss: 2.5431 - acc: 0.2812\n",
      "Epoch 23/100\n",
      " - 0s - loss: 2.4372 - acc: 0.2812\n",
      "Epoch 24/100\n",
      " - 0s - loss: 2.3572 - acc: 0.2812\n",
      "Epoch 25/100\n",
      " - 0s - loss: 2.2724 - acc: 0.2812\n",
      "Epoch 26/100\n",
      " - 0s - loss: 2.1605 - acc: 0.3125\n",
      "Epoch 27/100\n",
      " - 0s - loss: 2.0791 - acc: 0.3750\n",
      "Epoch 28/100\n",
      " - 0s - loss: 2.0011 - acc: 0.3438\n",
      "Epoch 29/100\n",
      " - 0s - loss: 1.9339 - acc: 0.3125\n",
      "Epoch 30/100\n",
      " - 0s - loss: 1.8456 - acc: 0.3750\n",
      "Epoch 31/100\n",
      " - 0s - loss: 1.7778 - acc: 0.3750\n",
      "Epoch 32/100\n",
      " - 0s - loss: 1.7239 - acc: 0.4062\n",
      "Epoch 33/100\n",
      " - 0s - loss: 1.6600 - acc: 0.4375\n",
      "Epoch 34/100\n",
      " - 0s - loss: 1.6122 - acc: 0.4688\n",
      "Epoch 35/100\n",
      " - 0s - loss: 1.5627 - acc: 0.4688\n",
      "Epoch 36/100\n",
      " - 0s - loss: 1.5167 - acc: 0.5312\n",
      "Epoch 37/100\n",
      " - 0s - loss: 1.4778 - acc: 0.5000\n",
      "Epoch 38/100\n",
      " - 0s - loss: 1.4260 - acc: 0.6250\n",
      "Epoch 39/100\n",
      " - 0s - loss: 1.4125 - acc: 0.4688\n",
      "Epoch 40/100\n",
      " - 0s - loss: 1.3676 - acc: 0.5625\n",
      "Epoch 41/100\n",
      " - 0s - loss: 1.3378 - acc: 0.5938\n",
      "Epoch 42/100\n",
      " - 0s - loss: 1.3066 - acc: 0.5938\n",
      "Epoch 43/100\n",
      " - 0s - loss: 1.2542 - acc: 0.6875\n",
      "Epoch 44/100\n",
      " - 0s - loss: 1.2450 - acc: 0.5938\n",
      "Epoch 45/100\n",
      " - 0s - loss: 1.1909 - acc: 0.7812\n",
      "Epoch 46/100\n",
      " - 0s - loss: 1.1732 - acc: 0.6562\n",
      "Epoch 47/100\n",
      " - 0s - loss: 1.1410 - acc: 0.7500\n",
      "Epoch 48/100\n",
      " - 0s - loss: 1.1026 - acc: 0.7500\n",
      "Epoch 49/100\n",
      " - 0s - loss: 1.0867 - acc: 0.7188\n",
      "Epoch 50/100\n",
      " - 0s - loss: 1.0497 - acc: 0.8125\n",
      "Epoch 51/100\n",
      " - 0s - loss: 1.0293 - acc: 0.7812\n",
      "Epoch 52/100\n",
      " - 0s - loss: 0.9985 - acc: 0.8125\n",
      "Epoch 53/100\n",
      " - 0s - loss: 0.9839 - acc: 0.8750\n",
      "Epoch 54/100\n",
      " - 0s - loss: 0.9607 - acc: 0.8125\n",
      "Epoch 55/100\n",
      " - 0s - loss: 0.9298 - acc: 0.8438\n",
      "Epoch 56/100\n",
      " - 0s - loss: 0.9091 - acc: 0.8750\n",
      "Epoch 57/100\n",
      " - 0s - loss: 0.8906 - acc: 0.9375\n",
      "Epoch 58/100\n",
      " - 0s - loss: 0.8716 - acc: 0.8750\n",
      "Epoch 59/100\n",
      " - 0s - loss: 0.8411 - acc: 0.9688\n",
      "Epoch 60/100\n",
      " - 0s - loss: 0.8271 - acc: 0.9062\n",
      "Epoch 61/100\n",
      " - 0s - loss: 0.8055 - acc: 0.9375\n",
      "Epoch 62/100\n",
      " - 0s - loss: 0.7819 - acc: 0.9688\n",
      "Epoch 63/100\n",
      " - 0s - loss: 0.7643 - acc: 0.9688\n",
      "Epoch 64/100\n",
      " - 0s - loss: 0.7517 - acc: 0.9375\n",
      "Epoch 65/100\n",
      " - 0s - loss: 0.7293 - acc: 0.9688\n",
      "Epoch 66/100\n",
      " - 0s - loss: 0.7102 - acc: 1.0000\n",
      "Epoch 67/100\n",
      " - 0s - loss: 0.7006 - acc: 0.9688\n",
      "Epoch 68/100\n",
      " - 0s - loss: 0.6853 - acc: 0.9688\n",
      "Epoch 69/100\n",
      " - 0s - loss: 0.6800 - acc: 1.0000\n",
      "Epoch 70/100\n",
      " - 0s - loss: 0.7104 - acc: 0.8750\n",
      "Epoch 71/100\n",
      " - 0s - loss: 0.6653 - acc: 0.9375\n",
      "Epoch 72/100\n",
      " - 0s - loss: 0.6250 - acc: 1.0000\n",
      "Epoch 73/100\n",
      " - 0s - loss: 0.6198 - acc: 1.0000\n",
      "Epoch 74/100\n",
      " - 0s - loss: 0.6184 - acc: 1.0000\n",
      "Epoch 75/100\n",
      " - 0s - loss: 0.6027 - acc: 0.9688\n",
      "Epoch 76/100\n",
      " - 0s - loss: 0.5739 - acc: 1.0000\n",
      "Epoch 77/100\n",
      " - 0s - loss: 0.5805 - acc: 1.0000\n",
      "Epoch 78/100\n",
      " - 0s - loss: 0.5773 - acc: 0.9688\n",
      "Epoch 79/100\n",
      " - 0s - loss: 0.5431 - acc: 1.0000\n",
      "Epoch 80/100\n",
      " - 0s - loss: 0.5535 - acc: 0.9688\n",
      "Epoch 81/100\n",
      " - 0s - loss: 0.5475 - acc: 1.0000\n",
      "Epoch 82/100\n",
      " - 0s - loss: 0.5180 - acc: 1.0000\n",
      "Epoch 83/100\n",
      " - 0s - loss: 0.5288 - acc: 1.0000\n",
      "Epoch 84/100\n",
      " - 0s - loss: 0.5145 - acc: 1.0000\n",
      "Epoch 85/100\n",
      " - 0s - loss: 0.4940 - acc: 1.0000\n",
      "Epoch 86/100\n",
      " - 0s - loss: 0.4982 - acc: 1.0000\n",
      "Epoch 87/100\n",
      " - 0s - loss: 0.4843 - acc: 1.0000\n",
      "Epoch 88/100\n",
      " - 0s - loss: 0.4724 - acc: 1.0000\n",
      "Epoch 89/100\n",
      " - 0s - loss: 0.4697 - acc: 1.0000\n",
      "Epoch 90/100\n",
      " - 0s - loss: 0.4646 - acc: 1.0000\n",
      "Epoch 91/100\n",
      " - 0s - loss: 0.4450 - acc: 1.0000\n",
      "Epoch 92/100\n",
      " - 0s - loss: 0.4493 - acc: 1.0000\n",
      "Epoch 93/100\n",
      " - 0s - loss: 0.4306 - acc: 1.0000\n",
      "Epoch 94/100\n",
      " - 0s - loss: 0.4270 - acc: 1.0000\n",
      "Epoch 95/100\n",
      " - 0s - loss: 0.4205 - acc: 1.0000\n",
      "Epoch 96/100\n",
      " - 0s - loss: 0.4085 - acc: 1.0000\n",
      "Epoch 97/100\n",
      " - 0s - loss: 0.4065 - acc: 1.0000\n",
      "Epoch 98/100\n",
      " - 0s - loss: 0.3952 - acc: 1.0000\n",
      "Epoch 99/100\n",
      " - 0s - loss: 0.3921 - acc: 1.0000\n",
      "Epoch 100/100\n",
      " - 0s - loss: 0.3836 - acc: 1.0000\n"
     ]
    }
   ],
   "source": [
    "import matplotlib.pyplot as plt\n",
    "history = model.fit(input_texts, output_texts, epochs=100, verbose=2)"
   ]
  },
  {
   "cell_type": "markdown",
   "metadata": {},
   "source": [
    "### 학습결과 출력\n",
    "* matplotlib 활용 학습 결과 출력"
   ]
  },
  {
   "cell_type": "code",
   "execution_count": 7,
   "metadata": {},
   "outputs": [
    {
     "data": {
      "image/png": "[encoded data removed]",
      "text/plain": [
       "<Figure size 432x288 with 1 Axes>"
      ]
     },
     "metadata": {},
     "output_type": "display_data"
    }
   ],
   "source": [
    "# summarize history for loss\n",
    "plt.plot(history.history['loss'])\n",
    "plt.title('model loss')\n",
    "plt.ylabel('loss')\n",
    "plt.xlabel('epoch')\n",
    "plt.legend(['train', 'test'], loc='upper left')\n",
    "plt.show()"
   ]
  },
  {
   "cell_type": "markdown",
   "metadata": {},
   "source": [
    "### 예측 수행"
   ]
  },
  {
   "cell_type": "code",
   "execution_count": 8,
   "metadata": {},
   "outputs": [
    {
     "name": "stdout",
     "output_type": "stream",
     "text": [
      "input text :안녕\n",
      "output text :만나서반가워\n",
      "input text :넌누구니\n",
      "output text :나는AI봇이란다\n",
      "input text :피자 주문 할께\n",
      "output text :페파로니주문해줘\n",
      "input text :음료는 멀로\n",
      "output text :콜라로해줘\n"
     ]
    }
   ],
   "source": [
    "def inference_embed(data) :\n",
    "    inputs = to_char_array(data)\n",
    "    output = tokenizer.texts_to_sequences([inputs])\n",
    "    output = pad_sequences(output, maxlen=MAX_SEQUENCE_LENGTH)\n",
    "    output = np_utils.to_categorical(output, MAX_NB_WORDS)\n",
    "    return output\n",
    "\n",
    "def predict(data):\n",
    "    x_predict = inference_embed(data)\n",
    "    y = model.predict(x_predict, verbose=0)\n",
    "    arr = []\n",
    "    for dim in y[0]:\n",
    "        arr.append(dim.argmax())\n",
    "    index_word = {v: k for k, v in tokenizer.word_index.items()}  # map back\n",
    "    words = []\n",
    "    for seq in arr:\n",
    "        if(seq == 0):\n",
    "            words.append('')\n",
    "        else:\n",
    "            words.append(index_word.get(seq))\n",
    "    output_text = ''.join(words)\n",
    "    print('input text :' + data)\n",
    "    print('output text :' + output_text)  # output\n",
    "\n",
    "predict('안녕')\n",
    "predict('넌누구니')\n",
    "predict('피자 주문 할께')\n",
    "predict('음료는 멀로')"
   ]
  }
 ],
 "metadata": {
  "kernelspec": {
   "display_name": "Python 3",
   "language": "python",
   "name": "python3"
  },
  "language_info": {
   "codemirror_mode": {
    "name": "ipython",
    "version": 3
   },
   "file_extension": ".py",
   "mimetype": "text/x-python",
   "name": "python",
   "nbconvert_exporter": "python",
   "pygments_lexer": "ipython3",
   "version": "3.6.5"
  }
 },
 "nbformat": 4,
 "nbformat_minor": 2
}
