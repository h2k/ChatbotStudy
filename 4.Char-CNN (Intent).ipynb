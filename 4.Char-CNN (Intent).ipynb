{
 "cells": [
  {
   "cell_type": "code",
   "execution_count": 1,
   "metadata": {},
   "outputs": [
    {
     "name": "stderr",
     "output_type": "stream",
     "text": [
      "C:\\ProgramData\\Anaconda3\\lib\\site-packages\\gensim\\utils.py:1209: UserWarning: detected Windows; aliasing chunkize to chunkize_serial\n",
      "  warnings.warn(\"detected Windows; aliasing chunkize to chunkize_serial\")\n"
     ]
    },
    {
     "name": "stdout",
     "output_type": "stream",
     "text": [
      "load done\n"
     ]
    }
   ],
   "source": [
    "# coding: utf-8\n",
    "from eunjeon import Mecab\n",
    "from gensim.models import word2vec\n",
    "from tensorflow.python.keras.preprocessing.text import Tokenizer\n",
    "from tensorflow.python.keras.utils import np_utils\n",
    "print(\"load done\")"
   ]
  },
  {
   "cell_type": "markdown",
   "metadata": {},
   "source": [
    "# Parameters"
   ]
  },
  {
   "cell_type": "code",
   "execution_count": 2,
   "metadata": {},
   "outputs": [
    {
     "data": {
      "text/plain": [
       "['판교에 오늘 피자 주문해줘', '오늘 날짜에 호텔 예약 해줄레', '모래 날짜에 판교 여행 정보 알려줘']"
      ]
     },
     "execution_count": 2,
     "metadata": {},
     "output_type": "execute_result"
    }
   ],
   "source": [
    "vector_size = 50\n",
    "encode_length = 4\n",
    "label_size = 3\n",
    "MAX_NB_WORDS = 0\n",
    "MAX_SEQUENCE_LENGTH = 0\n",
    "\n",
    "tokenizer = Tokenizer()\n",
    "\n",
    "# Choose multi test\n",
    "filter_type = \"multi\"\n",
    "filter_sizes = [2,3,4,2,3,4,2,3,4]\n",
    "fully_connected_layers = [1024, 1024]\n",
    "dropout_p = 0.1\n",
    "optimizer = \"adam\"\n",
    "loss = \"categorical_crossentropy\"\n",
    "num_filters = len(filter_sizes)\n",
    "\n",
    "train_data_list =  {\n",
    "                'encode' : ['판교에 오늘 피자 주문해줘','오늘 날짜에 호텔 예약 해줄레','모래 날짜에 판교 여행 정보 알려줘'],\n",
    "                'decode' : ['0','1','2']\n",
    "             }\n",
    "train_data_list.get('encode')"
   ]
  },
  {
   "cell_type": "markdown",
   "metadata": {},
   "source": [
    "# Vector model"
   ]
  },
  {
   "cell_type": "code",
   "execution_count": 3,
   "metadata": {},
   "outputs": [
    {
     "name": "stdout",
     "output_type": "stream",
     "text": [
      "['판교에 오늘 피자 주문해줘', '오늘 날짜에 호텔 예약 해줄레', '모래 날짜에 판교 여행 정보 알려줘']\n",
      "Word2Vec(vocab=15, size=50, alpha=0.025)\n"
     ]
    }
   ],
   "source": [
    "def train_vector_model(str_buf):\n",
    "\n",
    "    mecab = Mecab()\n",
    "    str_buf = train_data_list['encode']\n",
    "    pos1 = mecab.pos(''.join(str_buf))\n",
    "    pos2 = ' '.join(list(map(lambda x : '\\n' if x[1] in ['SF'] else x[0], pos1))).split('\\n')\n",
    "    morphs = list(map(lambda x : mecab.morphs(x) , pos2))\n",
    "    print(str_buf)\n",
    "    model = word2vec.Word2Vec(size=vector_size, window=2, min_count=1)\n",
    "    model.build_vocab(morphs)\n",
    "    model.train(morphs, epochs=model.epochs, total_examples=model.corpus_count)\n",
    "    return model\n",
    "\n",
    "model = train_vector_model(train_data_list)\n",
    "print(model)"
   ]
  },
  {
   "cell_type": "markdown",
   "metadata": {},
   "source": [
    "# Test data Embedding"
   ]
  },
  {
   "cell_type": "code",
   "execution_count": 4,
   "metadata": {},
   "outputs": [
    {
     "name": "stdout",
     "output_type": "stream",
     "text": [
      "[[3, 6], [3, 9, 10], [12, 2, 13, 14, 15]]\n",
      "[[1. 0. 0.]\n",
      " [0. 1. 0.]\n",
      " [0. 0. 1.]]\n",
      "16 5\n"
     ]
    }
   ],
   "source": [
    "def embed(data) :\n",
    "    mecab = Mecab()\n",
    "    inputs = []\n",
    "    labels = []\n",
    "\n",
    "    for encode_raw in data['encode'] :\n",
    "        encode_raw = mecab.morphs(encode_raw)\n",
    "        tokenizer.fit_on_texts(encode_raw)\n",
    "        inputs.append(encode_raw)        \n",
    "\n",
    "    x_train = tokenizer.texts_to_sequences(data['encode'])\n",
    "\n",
    "    for decode_raw in data['decode']:\n",
    "        labels.append(decode_raw)\n",
    "\n",
    "    y_train = np_utils.to_categorical(labels, label_size)\n",
    "    return x_train, y_train\n",
    "\n",
    "x_train, y_train = embed(train_data_list)\n",
    "print(x_train)\n",
    "print(y_train)\n",
    "\n",
    "MAX_NB_WORDS = len(tokenizer.word_index) + 1\n",
    "MAX_SEQUENCE_LENGTH = max([len(seq) for seq in x_train])\n",
    "\n",
    "print(MAX_NB_WORDS, MAX_SEQUENCE_LENGTH)"
   ]
  },
  {
   "cell_type": "markdown",
   "metadata": {},
   "source": [
    "# import keras modules"
   ]
  },
  {
   "cell_type": "code",
   "execution_count": 5,
   "metadata": {},
   "outputs": [
    {
     "name": "stdout",
     "output_type": "stream",
     "text": [
      "[[ 0  0  0  3  6]\n",
      " [ 0  0  3  9 10]\n",
      " [12  2 13 14 15]]\n"
     ]
    }
   ],
   "source": [
    "from tensorflow.python.keras.models import Model\n",
    "from tensorflow.python.keras.layers import Input, Dense, Concatenate\n",
    "from tensorflow.python.keras.layers import Convolution1D\n",
    "from tensorflow.python.keras.layers import GlobalMaxPooling1D\n",
    "from tensorflow.python.keras.layers import Embedding\n",
    "from tensorflow.python.keras.layers import AlphaDropout\n",
    "from tensorflow.python.keras.preprocessing.sequence import pad_sequences\n",
    "from tensorflow.python.keras.callbacks import TensorBoard\n",
    "\n",
    "x_train = pad_sequences(x_train, maxlen=MAX_SEQUENCE_LENGTH)\n",
    "\n",
    "print(x_train)\n",
    "\n",
    "inputs = Input(shape=(MAX_SEQUENCE_LENGTH,), name='sent_input', dtype='int64')\n",
    "x = Embedding(vector_size, MAX_NB_WORDS, input_length=MAX_SEQUENCE_LENGTH)(inputs)"
   ]
  },
  {
   "cell_type": "markdown",
   "metadata": {},
   "source": [
    "# Model design"
   ]
  },
  {
   "cell_type": "code",
   "execution_count": 6,
   "metadata": {},
   "outputs": [
    {
     "name": "stdout",
     "output_type": "stream",
     "text": [
      "__________________________________________________________________________________________________\n",
      "Layer (type)                    Output Shape         Param #     Connected to                     \n",
      "==================================================================================================\n",
      "sent_input (InputLayer)         (None, 5)            0                                            \n",
      "__________________________________________________________________________________________________\n",
      "embedding (Embedding)           (None, 5, 16)        800         sent_input[0][0]                 \n",
      "__________________________________________________________________________________________________\n",
      "Conv1D_256_2_0 (Conv1D)         (None, 4, 256)       8448        embedding[0][0]                  \n",
      "__________________________________________________________________________________________________\n",
      "Conv1D_256_3_1 (Conv1D)         (None, 3, 256)       12544       embedding[0][0]                  \n",
      "__________________________________________________________________________________________________\n",
      "Conv1D_256_4_2 (Conv1D)         (None, 2, 256)       16640       embedding[0][0]                  \n",
      "__________________________________________________________________________________________________\n",
      "Conv1D_256_2_3 (Conv1D)         (None, 4, 256)       8448        embedding[0][0]                  \n",
      "__________________________________________________________________________________________________\n",
      "Conv1D_256_3_4 (Conv1D)         (None, 3, 256)       12544       embedding[0][0]                  \n",
      "__________________________________________________________________________________________________\n",
      "Conv1D_256_4_5 (Conv1D)         (None, 2, 256)       16640       embedding[0][0]                  \n",
      "__________________________________________________________________________________________________\n",
      "Conv1D_256_2_6 (Conv1D)         (None, 4, 256)       8448        embedding[0][0]                  \n",
      "__________________________________________________________________________________________________\n",
      "Conv1D_256_3_7 (Conv1D)         (None, 3, 256)       12544       embedding[0][0]                  \n",
      "__________________________________________________________________________________________________\n",
      "Conv1D_256_4_8 (Conv1D)         (None, 2, 256)       16640       embedding[0][0]                  \n",
      "__________________________________________________________________________________________________\n",
      "MaxPoolingOverTime_256_2_0 (Glo (None, 256)          0           Conv1D_256_2_0[0][0]             \n",
      "__________________________________________________________________________________________________\n",
      "MaxPoolingOverTime_256_3_1 (Glo (None, 256)          0           Conv1D_256_3_1[0][0]             \n",
      "__________________________________________________________________________________________________\n",
      "MaxPoolingOverTime_256_4_2 (Glo (None, 256)          0           Conv1D_256_4_2[0][0]             \n",
      "__________________________________________________________________________________________________\n",
      "MaxPoolingOverTime_256_2_3 (Glo (None, 256)          0           Conv1D_256_2_3[0][0]             \n",
      "__________________________________________________________________________________________________\n",
      "MaxPoolingOverTime_256_3_4 (Glo (None, 256)          0           Conv1D_256_3_4[0][0]             \n",
      "__________________________________________________________________________________________________\n",
      "MaxPoolingOverTime_256_4_5 (Glo (None, 256)          0           Conv1D_256_4_5[0][0]             \n",
      "__________________________________________________________________________________________________\n",
      "MaxPoolingOverTime_256_2_6 (Glo (None, 256)          0           Conv1D_256_2_6[0][0]             \n",
      "__________________________________________________________________________________________________\n",
      "MaxPoolingOverTime_256_3_7 (Glo (None, 256)          0           Conv1D_256_3_7[0][0]             \n",
      "__________________________________________________________________________________________________\n",
      "MaxPoolingOverTime_256_4_8 (Glo (None, 256)          0           Conv1D_256_4_8[0][0]             \n",
      "__________________________________________________________________________________________________\n",
      "concatenate (Concatenate)       (None, 2304)         0           MaxPoolingOverTime_256_2_0[0][0] \n",
      "                                                                 MaxPoolingOverTime_256_3_1[0][0] \n",
      "                                                                 MaxPoolingOverTime_256_4_2[0][0] \n",
      "                                                                 MaxPoolingOverTime_256_2_3[0][0] \n",
      "                                                                 MaxPoolingOverTime_256_3_4[0][0] \n",
      "                                                                 MaxPoolingOverTime_256_4_5[0][0] \n",
      "                                                                 MaxPoolingOverTime_256_2_6[0][0] \n",
      "                                                                 MaxPoolingOverTime_256_3_7[0][0] \n",
      "                                                                 MaxPoolingOverTime_256_4_8[0][0] \n",
      "__________________________________________________________________________________________________\n",
      "dense (Dense)                   (None, 1024)         2360320     concatenate[0][0]                \n",
      "__________________________________________________________________________________________________\n",
      "alpha_dropout (AlphaDropout)    (None, 1024)         0           dense[0][0]                      \n",
      "__________________________________________________________________________________________________\n",
      "dense_1 (Dense)                 (None, 1024)         1049600     alpha_dropout[0][0]              \n",
      "__________________________________________________________________________________________________\n",
      "alpha_dropout_1 (AlphaDropout)  (None, 1024)         0           dense_1[0][0]                    \n",
      "__________________________________________________________________________________________________\n",
      "dense_2 (Dense)                 (None, 3)            3075        alpha_dropout_1[0][0]            \n",
      "==================================================================================================\n",
      "Total params: 3,526,691\n",
      "Trainable params: 3,526,691\n",
      "Non-trainable params: 0\n",
      "__________________________________________________________________________________________________\n"
     ]
    }
   ],
   "source": [
    "convolution_output = []\n",
    "inindex = 0\n",
    "for filter_width in filter_sizes:\n",
    "    conv = Convolution1D(filters=256,\n",
    "                         kernel_size=filter_width,\n",
    "                         activation='relu',\n",
    "                         name='Conv1D_{}_{}_{}'.format(256, filter_width,inindex))(x)\n",
    "    pool = GlobalMaxPooling1D(name='MaxPoolingOverTime_{}_{}_{}'.format(256, filter_width,inindex))(conv)\n",
    "    convolution_output.append(pool)\n",
    "    inindex = inindex+1\n",
    "\n",
    "x = Concatenate()(convolution_output)\n",
    "for fl in fully_connected_layers:\n",
    "    x = Dense(fl, activation='relu', kernel_initializer='lecun_normal')(x)\n",
    "    x = AlphaDropout(dropout_p)(x)\n",
    "\n",
    "predictions = Dense(label_size, activation='softmax')(x)\n",
    "model = Model(inputs=inputs, outputs=predictions)\n",
    "model.compile(optimizer=optimizer, loss=loss)\n",
    "model.summary()"
   ]
  },
  {
   "cell_type": "markdown",
   "metadata": {},
   "source": [
    "# Model run"
   ]
  },
  {
   "cell_type": "code",
   "execution_count": 7,
   "metadata": {},
   "outputs": [
    {
     "name": "stderr",
     "output_type": "stream",
     "text": [
      "C:\\ProgramData\\Anaconda3\\lib\\site-packages\\tensorflow\\python\\ops\\gradients_impl.py:100: UserWarning: Converting sparse IndexedSlices to a dense Tensor of unknown shape. This may consume a large amount of memory.\n",
      "  \"Converting sparse IndexedSlices to a dense Tensor of unknown shape. \"\n"
     ]
    },
    {
     "name": "stdout",
     "output_type": "stream",
     "text": [
      "Train on 3 samples, validate on 3 samples\n",
      "Epoch 1/100\n",
      " - 3s - loss: 0.8369 - val_loss: 1.0530\n",
      "Epoch 2/100\n",
      " - 0s - loss: 1.5614 - val_loss: 0.9197\n",
      "Epoch 3/100\n",
      " - 0s - loss: 1.4228 - val_loss: 0.9437\n",
      "Epoch 4/100\n",
      " - 0s - loss: 0.8239 - val_loss: 1.0048\n",
      "Epoch 5/100\n",
      " - 0s - loss: 1.7202 - val_loss: 0.8495\n",
      "Epoch 6/100\n",
      " - 0s - loss: 1.1343 - val_loss: 0.7950\n",
      "Epoch 7/100\n",
      " - 0s - loss: 1.3154 - val_loss: 0.4708\n",
      "Epoch 8/100\n",
      " - 0s - loss: 0.6163 - val_loss: 0.3380\n",
      "Epoch 9/100\n",
      " - 0s - loss: 0.5599 - val_loss: 0.3753\n",
      "Epoch 10/100\n",
      " - 0s - loss: 0.3008 - val_loss: 0.3010\n",
      "Epoch 11/100\n",
      " - 0s - loss: 0.5434 - val_loss: 0.1489\n",
      "Epoch 12/100\n",
      " - 0s - loss: 0.1348 - val_loss: 0.0573\n",
      "Epoch 13/100\n",
      " - 0s - loss: 0.4518 - val_loss: 0.0352\n",
      "Epoch 14/100\n",
      " - 0s - loss: 0.0502 - val_loss: 0.0291\n",
      "Epoch 15/100\n",
      " - 0s - loss: 0.0975 - val_loss: 0.0165\n",
      "Epoch 16/100\n",
      " - 0s - loss: 0.0575 - val_loss: 0.0060\n",
      "Epoch 17/100\n",
      " - 0s - loss: 0.0441 - val_loss: 0.0027\n",
      "Epoch 18/100\n",
      " - 0s - loss: 0.0074 - val_loss: 0.0014\n",
      "Epoch 19/100\n",
      " - 0s - loss: 0.0069 - val_loss: 7.1622e-04\n",
      "Epoch 20/100\n",
      " - 0s - loss: 0.0093 - val_loss: 4.5161e-04\n",
      "Epoch 21/100\n",
      " - 0s - loss: 0.0550 - val_loss: 2.0403e-04\n",
      "Epoch 22/100\n",
      " - 0s - loss: 0.0049 - val_loss: 1.3973e-04\n",
      "Epoch 23/100\n",
      " - 0s - loss: 0.0038 - val_loss: 1.3163e-04\n",
      "Epoch 24/100\n",
      " - 0s - loss: 0.0243 - val_loss: 5.3350e-05\n",
      "Epoch 25/100\n",
      " - 0s - loss: 0.0036 - val_loss: 2.2213e-05\n",
      "Epoch 26/100\n",
      " - 0s - loss: 0.0015 - val_loss: 1.0212e-05\n",
      "Epoch 27/100\n",
      " - 0s - loss: 0.0139 - val_loss: 3.4173e-06\n",
      "Epoch 28/100\n",
      " - 0s - loss: 3.1672e-04 - val_loss: 1.7484e-06\n",
      "Epoch 29/100\n",
      " - 0s - loss: 3.3577e-06 - val_loss: 1.2914e-06\n",
      "Epoch 30/100\n",
      " - 0s - loss: 1.7027e-05 - val_loss: 1.1325e-06\n",
      "Epoch 31/100\n",
      " - 0s - loss: 0.0030 - val_loss: 1.2716e-06\n",
      "Epoch 32/100\n",
      " - 0s - loss: 0.0049 - val_loss: 1.0530e-06\n",
      "Epoch 33/100\n",
      " - 0s - loss: 1.0888e-05 - val_loss: 8.9407e-07\n",
      "Epoch 34/100\n",
      " - 0s - loss: 1.7958e-04 - val_loss: 7.5499e-07\n",
      "Epoch 35/100\n",
      " - 0s - loss: 1.6570e-05 - val_loss: 6.5565e-07\n",
      "Epoch 36/100\n",
      " - 0s - loss: 5.1459e-06 - val_loss: 5.7618e-07\n",
      "Epoch 37/100\n",
      " - 0s - loss: 1.4564e-05 - val_loss: 5.1657e-07\n",
      "Epoch 38/100\n",
      " - 0s - loss: 7.7752e-05 - val_loss: 4.5697e-07\n",
      "Epoch 39/100\n",
      " - 0s - loss: 6.3525e-05 - val_loss: 3.9736e-07\n",
      "Epoch 40/100\n",
      " - 0s - loss: 7.1473e-05 - val_loss: 3.5763e-07\n",
      "Epoch 41/100\n",
      " - 0s - loss: 9.4574e-06 - val_loss: 3.3776e-07\n",
      "Epoch 42/100\n",
      " - 0s - loss: 0.0015 - val_loss: 2.7816e-07\n",
      "Epoch 43/100\n",
      " - 0s - loss: 3.8592e-04 - val_loss: 2.3842e-07\n",
      "Epoch 44/100\n",
      " - 0s - loss: 4.8479e-06 - val_loss: 1.9868e-07\n",
      "Epoch 45/100\n",
      " - 0s - loss: 5.1542e-05 - val_loss: 1.7881e-07\n",
      "Epoch 46/100\n",
      " - 0s - loss: 1.3529e-04 - val_loss: 1.5895e-07\n",
      "Epoch 47/100\n",
      " - 0s - loss: 2.2858e-04 - val_loss: 1.3908e-07\n",
      "Epoch 48/100\n",
      " - 0s - loss: 1.8676e-06 - val_loss: 1.1921e-07\n",
      "Epoch 49/100\n",
      " - 0s - loss: 4.1765e-04 - val_loss: 1.1921e-07\n",
      "Epoch 50/100\n",
      " - 0s - loss: 1.3749e-05 - val_loss: 1.1921e-07\n",
      "Epoch 51/100\n",
      " - 0s - loss: 2.0266e-06 - val_loss: 1.1921e-07\n",
      "Epoch 52/100\n",
      " - 0s - loss: 8.5434e-06 - val_loss: 1.1921e-07\n",
      "Epoch 53/100\n",
      " - 0s - loss: 2.7816e-07 - val_loss: 1.1921e-07\n",
      "Epoch 54/100\n",
      " - 0s - loss: 1.6292e-06 - val_loss: 1.1921e-07\n",
      "Epoch 55/100\n",
      " - 0s - loss: 2.4697e-05 - val_loss: 1.1921e-07\n",
      "Epoch 56/100\n",
      " - 0s - loss: 2.3684e-05 - val_loss: 1.1921e-07\n",
      "Epoch 57/100\n",
      " - 0s - loss: 3.0995e-06 - val_loss: 1.1921e-07\n",
      "Epoch 58/100\n",
      " - 0s - loss: 7.8626e-05 - val_loss: 1.1921e-07\n",
      "Epoch 59/100\n",
      " - 0s - loss: 0.0011 - val_loss: 1.1921e-07\n",
      "Epoch 60/100\n",
      " - 0s - loss: 1.5801e-04 - val_loss: 1.1921e-07\n",
      "Epoch 61/100\n",
      " - 0s - loss: 8.4441e-06 - val_loss: 1.1921e-07\n",
      "Epoch 62/100\n",
      " - 0s - loss: 4.4505e-06 - val_loss: 1.1921e-07\n",
      "Epoch 63/100\n",
      " - 0s - loss: 3.4968e-06 - val_loss: 1.1921e-07\n",
      "Epoch 64/100\n",
      " - 0s - loss: 1.3908e-07 - val_loss: 1.1921e-07\n",
      "Epoch 65/100\n",
      " - 0s - loss: 5.0466e-06 - val_loss: 1.1921e-07\n",
      "Epoch 66/100\n",
      " - 0s - loss: 1.4504e-05 - val_loss: 1.1921e-07\n",
      "Epoch 67/100\n",
      " - 0s - loss: 3.5763e-07 - val_loss: 1.1921e-07\n",
      "Epoch 68/100\n",
      " - 0s - loss: 2.5829e-06 - val_loss: 1.1921e-07\n",
      "Epoch 69/100\n",
      " - 0s - loss: 4.4108e-06 - val_loss: 1.1921e-07\n",
      "Epoch 70/100\n",
      " - 0s - loss: 1.1921e-07 - val_loss: 1.1921e-07\n",
      "Epoch 71/100\n",
      " - 0s - loss: 5.5631e-07 - val_loss: 1.1921e-07\n",
      "Epoch 72/100\n",
      " - 0s - loss: 2.3842e-07 - val_loss: 1.1921e-07\n",
      "Epoch 73/100\n",
      " - 0s - loss: 9.1394e-07 - val_loss: 1.1921e-07\n",
      "Epoch 74/100\n",
      " - 0s - loss: 2.5829e-06 - val_loss: 1.1921e-07\n",
      "Epoch 75/100\n",
      " - 0s - loss: 4.1723e-07 - val_loss: 1.1921e-07\n",
      "Epoch 76/100\n",
      " - 0s - loss: 5.2850e-06 - val_loss: 1.1921e-07\n",
      "Epoch 77/100\n",
      " - 0s - loss: 5.0068e-06 - val_loss: 1.1921e-07\n",
      "Epoch 78/100\n",
      " - 0s - loss: 7.9473e-07 - val_loss: 1.1921e-07\n",
      "Epoch 79/100\n",
      " - 0s - loss: 1.8966e-04 - val_loss: 1.1921e-07\n",
      "Epoch 80/100\n",
      " - 0s - loss: 4.7684e-07 - val_loss: 1.1921e-07\n",
      "Epoch 81/100\n",
      " - 0s - loss: 1.2716e-06 - val_loss: 1.1921e-07\n",
      "Epoch 82/100\n",
      " - 0s - loss: 1.1921e-07 - val_loss: 1.1921e-07\n",
      "Epoch 83/100\n",
      " - 0s - loss: 8.2057e-06 - val_loss: 1.1921e-07\n",
      "Epoch 84/100\n",
      " - 0s - loss: 3.9736e-07 - val_loss: 1.1921e-07\n",
      "Epoch 85/100\n",
      " - 0s - loss: 5.5631e-07 - val_loss: 1.1921e-07\n",
      "Epoch 86/100\n",
      " - 0s - loss: 1.0729e-05 - val_loss: 1.1921e-07\n",
      "Epoch 87/100\n",
      " - 0s - loss: 1.3908e-07 - val_loss: 1.1921e-07\n",
      "Epoch 88/100\n",
      " - 0s - loss: 1.9868e-07 - val_loss: 1.1921e-07\n",
      "Epoch 89/100\n",
      " - 0s - loss: 5.7618e-07 - val_loss: 1.1921e-07\n",
      "Epoch 90/100\n",
      " - 0s - loss: 1.9551e-05 - val_loss: 1.1921e-07\n",
      "Epoch 91/100\n",
      " - 0s - loss: 2.3842e-07 - val_loss: 1.1921e-07\n",
      "Epoch 92/100\n",
      " - 0s - loss: 2.7816e-07 - val_loss: 1.1921e-07\n",
      "Epoch 93/100\n",
      " - 0s - loss: 1.2120e-06 - val_loss: 1.1921e-07\n",
      "Epoch 94/100\n",
      " - 0s - loss: 6.0464e-05 - val_loss: 1.1921e-07\n",
      "Epoch 95/100\n",
      " - 0s - loss: 4.8081e-06 - val_loss: 1.1921e-07\n",
      "Epoch 96/100\n",
      " - 0s - loss: 1.6491e-06 - val_loss: 1.1921e-07\n",
      "Epoch 97/100\n",
      " - 0s - loss: 1.3510e-06 - val_loss: 1.1921e-07\n",
      "Epoch 98/100\n",
      " - 0s - loss: 1.5895e-07 - val_loss: 1.1921e-07\n",
      "Epoch 99/100\n",
      " - 0s - loss: 1.0133e-06 - val_loss: 1.1921e-07\n",
      "Epoch 100/100\n",
      " - 0s - loss: 5.9605e-07 - val_loss: 1.1921e-07\n"
     ]
    },
    {
     "data": {
      "text/plain": [
       "<tensorflow.python.keras.callbacks.History at 0x176058529e8>"
      ]
     },
     "execution_count": 7,
     "metadata": {},
     "output_type": "execute_result"
    }
   ],
   "source": [
    "model.fit(x_train, y_train,\n",
    "               validation_data=(x_train, y_train),\n",
    "               epochs=100,\n",
    "               batch_size=128,\n",
    "               verbose=2)"
   ]
  },
  {
   "cell_type": "markdown",
   "metadata": {},
   "source": [
    "# Predict"
   ]
  },
  {
   "cell_type": "code",
   "execution_count": 8,
   "metadata": {},
   "outputs": [
    {
     "name": "stdout",
     "output_type": "stream",
     "text": [
      "result : [[2.7916927e-04 9.9417830e-01 5.5424403e-03]]\n",
      "result : 1\n",
      "result : [[7.6869748e-07 9.9999440e-01 4.9428463e-06]]\n",
      "result : 1\n",
      "result : [[1.743006e-14 7.012635e-12 1.000000e+00]]\n",
      "result : 2\n"
     ]
    }
   ],
   "source": [
    "def inference_embed(data) :\n",
    "    mecab = Mecab()\n",
    "    encode_raw = mecab.morphs(data)\n",
    "    output = tokenizer.texts_to_sequences([encode_raw])\n",
    "    return output\n",
    "\n",
    "def predict(data):\n",
    "    x_predict = inference_embed(data)\n",
    "    x_predict = pad_sequences(x_predict, maxlen=MAX_SEQUENCE_LENGTH)\n",
    "    y = model.predict(x_predict, 128, 2)\n",
    "    print(\"result : {0}\".format(y))\n",
    "    print(\"result : {0}\".format(y.argmax()))\n",
    "\n",
    "predict('판교에 오늘 피자 주문해줘')\n",
    "predict('오늘 날짜에 호텔 예약 해줄수있어')\n",
    "predict('모래 날짜에 판교 여행 정보 알려줘')"
   ]
  }
 ],
 "metadata": {
  "kernelspec": {
   "display_name": "Python 3",
   "language": "python",
   "name": "python3"
  },
  "language_info": {
   "codemirror_mode": {
    "name": "ipython",
    "version": 3
   },
   "file_extension": ".py",
   "mimetype": "text/x-python",
   "name": "python",
   "nbconvert_exporter": "python",
   "pygments_lexer": "ipython3",
   "version": "3.6.5"
  }
 },
 "nbformat": 4,
 "nbformat_minor": 2
}
